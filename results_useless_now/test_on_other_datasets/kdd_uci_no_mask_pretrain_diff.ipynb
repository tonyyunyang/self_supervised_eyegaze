{
 "cells": [
  {
   "cell_type": "code",
   "execution_count": 3,
   "metadata": {},
   "outputs": [
    {
     "data": {
      "application/vnd.jupyter.widget-view+json": {
       "model_id": "6b7c8617bd524b128d8ec0974420b3e4",
       "version_major": 2,
       "version_minor": 0
      },
      "text/plain": [
       "interactive(children=(IntSlider(value=0, description='Subplot:', max=99), Output()), _dom_classes=('widget-int…"
      ]
     },
     "execution_count": 3,
     "metadata": {},
     "output_type": "execute_result"
    }
   ],
   "source": [
    "import numpy as np\n",
    "import matplotlib.pyplot as plt\n",
    "import ipywidgets as widgets\n",
    "from IPython.display import display\n",
    "\n",
    "# Define the folder path once\n",
    "folder_path = 'results_mask_uci/UCI/kdd_model/One_out/linear/pretrain/window_size_4sec/feat_dim_6/freeze_False_epoch_500_lr_0.001_d_hidden_64_d_ff_128_n_heads_8_n_layer_8_pos_encode_learnable_activation_gelu_norm_BatchNorm'\n",
    "\n",
    "# Load the files using the folder path\n",
    "mask = np.loadtxt(f'{folder_path}/mask.txt')\n",
    "y_pred = np.loadtxt(f'{folder_path}/pred.txt')\n",
    "t_true = np.loadtxt(f'{folder_path}/true.txt')\n",
    "\n",
    "# Define the sequence of features based on your loading order\n",
    "features = []\n",
    "for suffix in ['_x', '_y', '_z']:\n",
    "    for modality in ['body_acc', 'body_gyro']:\n",
    "        features.append(modality + suffix)\n",
    "\n",
    "data_dict = {}\n",
    "for idx, feat in enumerate(features):\n",
    "    data_dict[feat] = {\n",
    "        \"mask\": mask[idx::6],\n",
    "        \"y_pred\": y_pred[idx::6],\n",
    "        \"t_true\": t_true[idx::6]\n",
    "    }\n",
    "\n",
    "# Calculate the min and max values for acc and gyro\n",
    "acc_values = [data_dict[feat]['t_true'] for feat in features if 'body_acc' in feat]\n",
    "gyro_values = [data_dict[feat]['t_true'] for feat in features if 'body_gyro' in feat]\n",
    "\n",
    "acc_min = min(np.min(value) for value in acc_values)\n",
    "acc_max = max(np.max(value) for value in acc_values)\n",
    "gyro_min = min(np.min(value) for value in gyro_values)\n",
    "gyro_max = max(np.max(value) for value in gyro_values)\n",
    "\n",
    "# Define the number of points per subplot and the number of subplots\n",
    "points_per_subplot = 128\n",
    "num_subplots = 100\n",
    "\n",
    "# Create a function to plot a specific subplot\n",
    "def plot_subplot(i):\n",
    "    start = i * points_per_subplot\n",
    "    end = start + points_per_subplot\n",
    "\n",
    "    # Create a figure with 6 subplots\n",
    "    fig, axs = plt.subplots(6, figsize=(10, 10))\n",
    "    \n",
    "    for idx, feat in enumerate(features):\n",
    "        axs[idx].plot(data_dict[feat][\"t_true\"][start:end], 'r-', label='True', alpha=0.5)\n",
    "        axs[idx].plot(data_dict[feat][\"y_pred\"][start:end], 'b-', label='Predicted', alpha=0.5)\n",
    "        axs[idx].set_title('{} ({}-{})'.format(feat, start, end))\n",
    "        \n",
    "        # Set y-axis limits based on modality\n",
    "        if 'body_acc' in feat:\n",
    "            axs[idx].set_ylim([acc_min, acc_max])\n",
    "        else:\n",
    "            axs[idx].set_ylim([gyro_min, gyro_max])\n",
    "            \n",
    "        axs[idx].legend()\n",
    "\n",
    "    # Display the plots\n",
    "    plt.tight_layout()\n",
    "    plt.show()\n",
    "\n",
    "# Create a slider to select the subplot\n",
    "slider = widgets.IntSlider(min=0, max=num_subplots-1, step=1, description='Subplot:')\n",
    "\n",
    "# Create an interactive plot viewer\n",
    "widgets.interactive(plot_subplot, i=slider)\n"
   ]
  }
 ],
 "metadata": {
  "kernelspec": {
   "display_name": "torch",
   "language": "python",
   "name": "python3"
  },
  "language_info": {
   "codemirror_mode": {
    "name": "ipython",
    "version": 3
   },
   "file_extension": ".py",
   "mimetype": "text/x-python",
   "name": "python",
   "nbconvert_exporter": "python",
   "pygments_lexer": "ipython3",
   "version": "3.11.4"
  }
 },
 "nbformat": 4,
 "nbformat_minor": 2
}
