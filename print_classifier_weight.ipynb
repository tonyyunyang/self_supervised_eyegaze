{
 "cells": [
  {
   "cell_type": "code",
   "execution_count": 5,
   "metadata": {},
   "outputs": [
    {
     "name": "stdout",
     "output_type": "stream",
     "text": [
      "tensor([[[ 0.8717,  0.9746,  0.4164,  0.4699,  0.2634,  0.2986,  0.2442,\n",
      "           0.2580,  0.2392,  0.2099],\n",
      "         [-0.6294, -0.7554, -0.4753, -0.5132, -0.4491, -0.4351, -0.6297,\n",
      "          -0.5684, -1.1689, -1.0248]],\n",
      "\n",
      "        [[-0.6390, -0.7389, -0.5285, -0.4860, -0.5238, -0.3819, -0.7070,\n",
      "          -0.4752, -1.2359, -0.8776],\n",
      "         [-1.1466, -0.9717, -0.6147, -0.4038, -0.3890, -0.1871, -0.3099,\n",
      "          -0.1202, -0.2481, -0.0540]],\n",
      "\n",
      "        [[-0.7717, -1.1435, -0.4004, -0.6491, -0.3238, -0.4757, -0.4114,\n",
      "          -0.4517, -0.5785, -0.4666],\n",
      "         [ 0.2030,  0.4144,  0.1889,  0.3906,  0.2415,  0.4551,  0.4856,\n",
      "           0.7041,  1.1132,  1.2841]],\n",
      "\n",
      "        [[-0.1272,  0.0551,  0.0529,  0.1942,  0.1744,  0.2790,  0.3847,\n",
      "           0.4470,  0.8772,  0.8645],\n",
      "         [ 1.0492,  1.2211,  0.6306,  0.6755,  0.4979,  0.4575,  0.5617,\n",
      "           0.4355,  0.7974,  0.5537]],\n",
      "\n",
      "        [[ 0.4312,  0.5819,  0.3610,  0.4407,  0.3636,  0.3999,  0.5468,\n",
      "           0.5409,  1.0986,  1.0114],\n",
      "         [ 0.9731,  1.0711,  0.5065,  0.5246,  0.3684,  0.3417,  0.4066,\n",
      "           0.3325,  0.5285,  0.3814]],\n",
      "\n",
      "        [[ 1.1268,  1.1992,  0.6774,  0.6408,  0.5336,  0.4374,  0.6119,\n",
      "           0.4606,  0.9015,  0.6608],\n",
      "         [ 0.1152, -0.0051, -0.0662, -0.1374, -0.1682, -0.1925, -0.3511,\n",
      "          -0.3259, -0.8122, -0.7136]],\n",
      "\n",
      "        [[ 0.0283, -0.1904, -0.0679, -0.2896, -0.1450, -0.3746, -0.3581,\n",
      "          -0.5886, -0.9122, -1.1036],\n",
      "         [-0.8830, -1.2481, -0.4933, -0.7093, -0.4078, -0.5212, -0.5269,\n",
      "          -0.5392, -0.8157, -0.6889]],\n",
      "\n",
      "        [[-1.2401, -1.1972, -0.6969, -0.5885, -0.4986, -0.3727, -0.5161,\n",
      "          -0.3757, -0.6869, -0.5010],\n",
      "         [ 0.3240,  0.3590,  0.3595,  0.2965,  0.3913,  0.2649,  0.5601,\n",
      "           0.3813,  1.0619,  0.8031]]], device='cuda:0')\n",
      "torch.Size([8, 2, 10])\n"
     ]
    }
   ],
   "source": [
    "import torch\n",
    "import torch.nn as nn\n",
    "import matplotlib.pyplot as plt\n",
    "import seaborn as sns\n",
    "\n",
    "# Load the state_dict from the saved model\n",
    "model_path = \"results_unmask_cossin_reconstruction/CosSin/kdd_model/One_out/convolution/pretrain/window_size_8sec/feat_dim_2/freeze_False_epoch_100_lr_0.001_d_hidden_8_d_ff_16_n_heads_4_n_layer_1_pos_encode_learnable_activation_gelu_norm_BatchNorm/continue_model.pth\"\n",
    "state_dict = torch.load(model_path)\n",
    "\n",
    "# Assuming the output layer weights key in the state dictionary is 'output_layer.weight' \n",
    "# (you can inspect the keys and choose the appropriate one)\n",
    "output_weights = state_dict['output_layer.weight']\n",
    "# projection_weights = state_dict['project_inp.weight']\n",
    "\n",
    "print(output_weights)\n",
    "\n",
    "# print(projection_weights)\n",
    "\n",
    "\n",
    "\n",
    "print(output_weights.shape)\n",
    "# print(projection_weights.shape)\n"
   ]
  }
 ],
 "metadata": {
  "kernelspec": {
   "display_name": "torch",
   "language": "python",
   "name": "python3"
  },
  "language_info": {
   "codemirror_mode": {
    "name": "ipython",
    "version": 3
   },
   "file_extension": ".py",
   "mimetype": "text/x-python",
   "name": "python",
   "nbconvert_exporter": "python",
   "pygments_lexer": "ipython3",
   "version": "3.11.4"
  }
 },
 "nbformat": 4,
 "nbformat_minor": 2
}
