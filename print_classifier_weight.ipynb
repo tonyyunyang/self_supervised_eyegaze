{
 "cells": [
  {
   "cell_type": "code",
   "execution_count": 12,
   "metadata": {},
   "outputs": [
    {
     "name": "stdout",
     "output_type": "stream",
     "text": [
      "tensor([[[ 0.3357,  0.0833, -0.0446, -0.1681, -0.3113, -0.0382, -0.3100,\n",
      "          -0.2429,  0.1168,  0.0587],\n",
      "         [-0.0500,  0.0841,  0.0548, -0.0498,  0.2190,  0.1090, -0.0221,\n",
      "           0.0095,  0.3510,  0.0818]],\n",
      "\n",
      "        [[ 0.0332, -0.2521, -0.1789,  0.1794,  0.1737,  0.2232,  0.2639,\n",
      "           0.1888,  0.1788, -0.0635],\n",
      "         [-0.2233, -0.0600,  0.1181,  0.0795,  0.2887,  0.1766, -0.0037,\n",
      "           0.1712,  0.2683,  0.1982]],\n",
      "\n",
      "        [[ 0.0546,  0.3427,  0.0446,  0.2281, -0.1288, -0.0990, -0.1021,\n",
      "           0.2740, -0.0010,  0.1679],\n",
      "         [ 0.0102, -0.0331,  0.0807, -0.1573,  0.0419, -0.0418,  0.0635,\n",
      "          -0.0961, -0.0085, -0.0983]],\n",
      "\n",
      "        [[ 0.1091,  0.0214, -0.0601, -0.1499, -0.1015, -0.0448,  0.0747,\n",
      "          -0.1950,  0.0169, -0.2800],\n",
      "         [ 0.0203,  0.0225,  0.0189,  0.4403,  0.2891,  0.4553,  0.2522,\n",
      "           0.2762, -0.0658,  0.1627]],\n",
      "\n",
      "        [[-0.0985, -0.0193,  0.1351,  0.2800,  0.0673,  0.1467,  0.1518,\n",
      "          -0.0665,  0.1750, -0.1757],\n",
      "         [-0.1353, -0.0020, -0.2129, -0.1392, -0.2221, -0.2294, -0.2512,\n",
      "          -0.0575,  0.1932,  0.4331]],\n",
      "\n",
      "        [[ 0.2283,  0.0680, -0.0029, -0.1919, -0.1338, -0.0373, -0.2887,\n",
      "          -0.0932, -0.2599, -0.1444],\n",
      "         [ 0.0203, -0.1210,  0.1922,  0.1965, -0.2458, -0.0773, -0.2047,\n",
      "          -0.0204, -0.1489, -0.1177]],\n",
      "\n",
      "        [[-0.1342, -0.1471, -0.1521, -0.3767, -0.5490, -0.5084, -0.2270,\n",
      "          -0.1433, -0.1135,  0.2110],\n",
      "         [-0.1561, -0.2388, -0.0812,  0.0034,  0.0789,  0.0227, -0.0912,\n",
      "          -0.1427, -0.0551,  0.1061]],\n",
      "\n",
      "        [[-0.0597,  0.2396,  0.0478, -0.0624, -0.0204,  0.1815,  0.2704,\n",
      "           0.0072, -0.1304, -0.2661],\n",
      "         [-0.0594,  0.2142,  0.3195,  0.3109,  0.0486,  0.0462,  0.1988,\n",
      "          -0.2279,  0.0789, -0.1870]]], device='cuda:0')\n",
      "torch.Size([8, 2, 10])\n",
      "torch.Size([8, 2, 10])\n"
     ]
    }
   ],
   "source": [
    "import torch\n",
    "import torch.nn as nn\n",
    "import matplotlib.pyplot as plt\n",
    "import seaborn as sns\n",
    "\n",
    "# Load the state_dict from the saved model\n",
    "model_path = \"results/CosSin/kdd_model/One_out/convolution/pretrain/window_size_8sec/feat_dim_2/freeze_False_epoch_100_lr_0.001_d_hidden_8_d_ff_16_n_heads_4_n_layer_8_pos_encode_learnable_activation_gelu_norm_BatchNorm/continue_model.pth\"\n",
    "state_dict = torch.load(model_path)\n",
    "\n",
    "# Assuming the output layer weights key in the state dictionary is 'output_layer.weight' \n",
    "# (you can inspect the keys and choose the appropriate one)\n",
    "output_weights = state_dict['output_layer.weight']\n",
    "projection_weights = state_dict['project_inp.weight']\n",
    "\n",
    "print(output_weights)\n",
    "\n",
    "print(projection_weights)\n",
    "\n",
    "\n",
    "\n",
    "print(output_weights.shape)\n",
    "print(projection_weights.shape)\n"
   ]
  }
 ],
 "metadata": {
  "kernelspec": {
   "display_name": "torch",
   "language": "python",
   "name": "python3"
  },
  "language_info": {
   "codemirror_mode": {
    "name": "ipython",
    "version": 3
   },
   "file_extension": ".py",
   "mimetype": "text/x-python",
   "name": "python",
   "nbconvert_exporter": "python",
   "pygments_lexer": "ipython3",
   "version": "3.11.4"
  }
 },
 "nbformat": 4,
 "nbformat_minor": 2
}
