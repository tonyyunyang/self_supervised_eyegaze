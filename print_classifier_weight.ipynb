{
 "cells": [
  {
   "cell_type": "code",
   "execution_count": 3,
   "metadata": {},
   "outputs": [
    {
     "name": "stdout",
     "output_type": "stream",
     "text": [
      "tensor([[-0.0016, -0.0040,  0.0581,  ...,  0.0191,  0.0018,  0.0109],\n",
      "        [ 0.0198, -0.0182, -0.0224,  ..., -0.0001, -0.0181,  0.0199],\n",
      "        [-0.0302, -0.0132, -0.0489,  ..., -0.0047, -0.0256, -0.0081],\n",
      "        [-0.0133,  0.0031, -0.0109,  ..., -0.0164,  0.0198, -0.0127],\n",
      "        [ 0.0180,  0.0090,  0.0188,  ..., -0.0010,  0.0110, -0.0169],\n",
      "        [ 0.0206, -0.0178,  0.0128,  ...,  0.0072, -0.0068, -0.0053]],\n",
      "       device='cuda:0')\n",
      "torch.Size([6, 3840])\n"
     ]
    }
   ],
   "source": [
    "import torch\n",
    "import torch.nn as nn\n",
    "import matplotlib.pyplot as plt\n",
    "import seaborn as sns\n",
    "\n",
    "# Load the state_dict from the saved model\n",
    "model_path = \"results_mask_uci/UCI/kdd_model/One_out/convolution/finetune/window_size_4sec/feat_dim_6/freeze_False_epoch_2000_lr_0.001_d_hidden_64_d_ff_128_n_heads_8_n_layer_8_pos_encode_learnable_activation_gelu_norm_BatchNorm/best_model.pth\"\n",
    "state_dict = torch.load(model_path)\n",
    "\n",
    "# Assuming the output layer weights key in the state dictionary is 'output_layer.weight' \n",
    "# (you can inspect the keys and choose the appropriate one)\n",
    "output_weights = state_dict['output_layer.weight']\n",
    "# projection_weights = state_dict['project_inp.weight']\n",
    "\n",
    "print(output_weights)\n",
    "\n",
    "# print(projection_weights)\n",
    "\n",
    "\n",
    "\n",
    "print(output_weights.shape)\n",
    "# print(projection_weights.shape)\n"
   ]
  }
 ],
 "metadata": {
  "kernelspec": {
   "display_name": "torch",
   "language": "python",
   "name": "python3"
  },
  "language_info": {
   "codemirror_mode": {
    "name": "ipython",
    "version": 3
   },
   "file_extension": ".py",
   "mimetype": "text/x-python",
   "name": "python",
   "nbconvert_exporter": "python",
   "pygments_lexer": "ipython3",
   "version": "3.11.4"
  }
 },
 "nbformat": 4,
 "nbformat_minor": 2
}
