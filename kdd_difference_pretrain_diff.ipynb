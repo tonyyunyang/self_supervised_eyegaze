{
 "cells": [
  {
   "cell_type": "code",
   "execution_count": 2,
   "metadata": {},
   "outputs": [
    {
     "data": {
      "application/vnd.jupyter.widget-view+json": {
       "model_id": "38a98887a9ad426bacf07effb6d80b92",
       "version_major": 2,
       "version_minor": 0
      },
      "text/plain": [
       "interactive(children=(IntSlider(value=0, description='Subplot:', max=19), Output()), _dom_classes=('widget-int…"
      ]
     },
     "execution_count": 2,
     "metadata": {},
     "output_type": "execute_result"
    }
   ],
   "source": [
    "import numpy as np\n",
    "import matplotlib.pyplot as plt\n",
    "import ipywidgets as widgets\n",
    "from IPython.display import display\n",
    "\n",
    "# Define the folder path once\n",
    "folder_path = 'results/Desktop/kdd_model/One_out/linear/pretrain/window_size_30sec/feat_dim_4/freeze_False_epoch_500_lr_0.0001_d_hidden_64_d_ff_128_n_heads_8_n_layer_3_pos_encode_learnable_activation_gelu_norm_BatchNorm'\n",
    "\n",
    "# Load the files using the folder path\n",
    "mask = np.loadtxt(f'{folder_path}/mask.txt')\n",
    "y_pred = np.loadtxt(f'{folder_path}/pred.txt')\n",
    "t_true = np.loadtxt(f'{folder_path}/true.txt')\n",
    "\n",
    "\n",
    "# Split into x and y coordinates\n",
    "mask_x = mask[::4]\n",
    "mask_y = mask[1::4]\n",
    "mask_x_diff = mask[2::4]\n",
    "mask_y_diff = mask[3::4]\n",
    "\n",
    "y_pred_x = y_pred[::4]\n",
    "y_pred_y = y_pred[1::4]\n",
    "y_pred_x_diff = y_pred[2::4]\n",
    "y_pred_y_diff = y_pred[3::4]\n",
    "\n",
    "t_true_x = t_true[::4]\n",
    "t_true_y = t_true[1::4]\n",
    "t_true_x_diff = t_true[2::4]\n",
    "t_true_y_diff = t_true[3::4]\n",
    "\n",
    "# Define the number of points per subplot and the number of subplots\n",
    "points_per_subplot = 900\n",
    "num_subplots = 20\n",
    "\n",
    "# Create a function to plot a specific subplot\n",
    "def plot_subplot(i):\n",
    "    start = i * points_per_subplot\n",
    "    end = start + points_per_subplot\n",
    "\n",
    "    # Create a figure with 2 subplots\n",
    "    fig, axs = plt.subplots(4, figsize=(10, 15))\n",
    "\n",
    "    # Plot x-coordinates\n",
    "    axs[0].plot(t_true_x[start:end], 'r-', label='True', alpha=0.5)\n",
    "    axs[0].scatter(np.arange(points_per_subplot)[mask_x[start:end]==1], t_true_x[start:end][mask_x[start:end]==1], color='r', alpha=0.5, s=100, label='Masked')\n",
    "    axs[0].scatter(np.arange(points_per_subplot)[mask_x[start:end]==1], y_pred_x[start:end][mask_x[start:end]==1], color='b', alpha=1, s=50, label='Predicted')\n",
    "    axs[0].set_title('X-coordinates ({}-{})'.format(start, end))\n",
    "    axs[0].legend()\n",
    "\n",
    "    # Plot y-coordinates\n",
    "    axs[1].plot(t_true_y[start:end], 'r-', label='True', alpha=0.5)\n",
    "    axs[1].scatter(np.arange(points_per_subplot)[mask_y[start:end]==1], t_true_y[start:end][mask_y[start:end]==1], color='r', alpha=0.5, s=100, label='Masked')\n",
    "    axs[1].scatter(np.arange(points_per_subplot)[mask_y[start:end]==1], y_pred_y[start:end][mask_y[start:end]==1], color='b', alpha=1, s=50, label='Predicted')\n",
    "    axs[1].set_title('Y-coordinates ({}-{})'.format(start, end))\n",
    "    axs[1].legend()\n",
    "    \n",
    "    # Plot x-coordinate differences\n",
    "    axs[2].plot(t_true_x_diff[start:end], 'g-', label='True Diff', alpha=0.5)\n",
    "    axs[2].scatter(np.arange(points_per_subplot)[mask_x_diff[start:end]==1], t_true_x_diff[start:end][mask_x_diff[start:end]==1], color='g', alpha=0.5, s=100, label='Masked Diff')\n",
    "    axs[2].scatter(np.arange(points_per_subplot)[mask_x_diff[start:end]==1], y_pred_x_diff[start:end][mask_x_diff[start:end]==1], color='c', alpha=1, s=50, label='Predicted Diff')\n",
    "    axs[2].set_title('X-coordinate Differences ({}-{})'.format(start, end))\n",
    "    axs[2].legend()\n",
    "\n",
    "    # Plot y-coordinate differences\n",
    "    axs[3].plot(t_true_y_diff[start:end], 'g-', label='True Diff', alpha=0.5)\n",
    "    axs[3].scatter(np.arange(points_per_subplot)[mask_y_diff[start:end]==1], t_true_y_diff[start:end][mask_y_diff[start:end]==1], color='g', alpha=0.5, s=100, label='Masked Diff')\n",
    "    axs[3].scatter(np.arange(points_per_subplot)[mask_y_diff[start:end]==1], y_pred_y_diff[start:end][mask_y_diff[start:end]==1], color='c', alpha=1, s=50, label='Predicted Diff')\n",
    "    axs[3].set_title('Y-coordinate Differences ({}-{})'.format(start, end))\n",
    "    axs[3].legend()\n",
    "\n",
    "    # Display the plots\n",
    "    plt.tight_layout()\n",
    "    plt.show()\n",
    "\n",
    "# Create a slider to select the subplot\n",
    "slider = widgets.IntSlider(min=0, max=num_subplots-1, step=1, description='Subplot:')\n",
    "\n",
    "# Create an interactive plot viewer\n",
    "widgets.interactive(plot_subplot, i=slider)\n"
   ]
  }
 ],
 "metadata": {
  "kernelspec": {
   "display_name": "torch",
   "language": "python",
   "name": "python3"
  },
  "language_info": {
   "codemirror_mode": {
    "name": "ipython",
    "version": 3
   },
   "file_extension": ".py",
   "mimetype": "text/x-python",
   "name": "python",
   "nbconvert_exporter": "python",
   "pygments_lexer": "ipython3",
   "version": "3.11.4"
  },
  "orig_nbformat": 4
 },
 "nbformat": 4,
 "nbformat_minor": 2
}
