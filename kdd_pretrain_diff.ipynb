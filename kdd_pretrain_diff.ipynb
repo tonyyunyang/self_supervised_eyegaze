{
 "cells": [
  {
   "cell_type": "code",
   "execution_count": null,
   "id": "initial_id",
   "metadata": {
    "collapsed": true
   },
   "outputs": [],
   "source": [
    "import numpy as np\n",
    "import matplotlib.pyplot as plt\n",
    "import ipywidgets as widgets\n",
    "from IPython.display import display\n",
    "\n",
    "# Load data\n",
    "mask = np.loadtxt('results/kdd_model/One_out/linear/pretrain/freeze_False_epoch_3200_lr_0.0001_d_hidden_128_d_ff_256_n_heads_16_n_layer_3_pos_encode_learnable_activation_gelu_norm_BatchNorm/mask.txt')\n",
    "y_pred = np.loadtxt('results/kdd_model/One_out/linear/pretrain/freeze_False_epoch_3200_lr_0.0001_d_hidden_128_d_ff_256_n_heads_16_n_layer_3_pos_encode_learnable_activation_gelu_norm_BatchNorm/pred.txt')\n",
    "t_true = np.loadtxt('results/kdd_model/One_out/linear/pretrain/freeze_False_epoch_3200_lr_0.0001_d_hidden_128_d_ff_256_n_heads_16_n_layer_3_pos_encode_learnable_activation_gelu_norm_BatchNorm/true.txt')\n",
    "\n",
    "# Split into x and y coordinates\n",
    "mask_x = mask[::2]\n",
    "mask_y = mask[1::2]\n",
    "\n",
    "y_pred_x = y_pred[::2]\n",
    "y_pred_y = y_pred[1::2]\n",
    "\n",
    "t_true_x = t_true[::2]\n",
    "t_true_y = t_true[1::2]\n",
    "\n",
    "# Define the number of points per subplot and the number of subplots\n",
    "points_per_subplot = 150\n",
    "num_subplots = 50\n",
    "\n",
    "# Create a function to plot a specific subplot\n",
    "def plot_subplot(i):\n",
    "    start = i * points_per_subplot\n",
    "    end = start + points_per_subplot\n",
    "\n",
    "    # Create a figure with 2 subplots\n",
    "    fig, axs = plt.subplots(2, figsize=(10, 5))\n",
    "\n",
    "    # Plot x-coordinates\n",
    "    axs[0].plot(t_true_x[start:end], 'r-', label='True', alpha=0.5)\n",
    "    axs[0].scatter(np.arange(points_per_subplot)[mask_x[start:end]==1], t_true_x[start:end][mask_x[start:end]==1], color='r', alpha=0.5, s=100, label='Masked')\n",
    "    axs[0].scatter(np.arange(points_per_subplot)[mask_x[start:end]==1], y_pred_x[start:end][mask_x[start:end]==1], color='b', alpha=1, s=50, label='Predicted')\n",
    "    axs[0].set_title('X-coordinates ({}-{})'.format(start, end))\n",
    "    axs[0].legend()\n",
    "\n",
    "    # Plot y-coordinates\n",
    "    axs[1].plot(t_true_y[start:end], 'r-', label='True', alpha=0.5)\n",
    "    axs[1].scatter(np.arange(points_per_subplot)[mask_y[start:end]==1], t_true_y[start:end][mask_y[start:end]==1], color='r', alpha=0.5, s=100, label='Masked')\n",
    "    axs[1].scatter(np.arange(points_per_subplot)[mask_y[start:end]==1], y_pred_y[start:end][mask_y[start:end]==1], color='b', alpha=1, s=50, label='Predicted')\n",
    "    axs[1].set_title('Y-coordinates ({}-{})'.format(start, end))\n",
    "    axs[1].legend()\n",
    "\n",
    "    # Display the plots\n",
    "    plt.tight_layout()\n",
    "    plt.show()\n",
    "\n",
    "# Create a slider to select the subplot\n",
    "slider = widgets.IntSlider(min=0, max=num_subplots-1, step=1, description='Subplot:')\n",
    "\n",
    "# Create an interactive plot viewer\n",
    "widgets.interactive(plot_subplot, i=slider)\n"
   ]
  },
  {
   "cell_type": "code",
   "execution_count": null,
   "id": "2f78831e5311e0f3",
   "metadata": {
    "collapsed": false
   },
   "outputs": [],
   "source": []
  }
 ],
 "metadata": {
  "kernelspec": {
   "display_name": "Python 3",
   "language": "python",
   "name": "python3"
  },
  "language_info": {
   "codemirror_mode": {
    "name": "ipython",
    "version": 3
   },
   "file_extension": ".py",
   "mimetype": "text/x-python",
   "name": "python",
   "nbconvert_exporter": "python",
   "pygments_lexer": "ipython3",
   "version": "3.11.3"
  }
 },
 "nbformat": 4,
 "nbformat_minor": 5
}
