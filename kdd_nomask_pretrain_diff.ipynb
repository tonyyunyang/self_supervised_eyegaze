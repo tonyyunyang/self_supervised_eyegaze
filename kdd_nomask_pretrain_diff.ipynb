{
 "cells": [
  {
   "cell_type": "code",
   "execution_count": 1,
   "id": "initial_id",
   "metadata": {
    "collapsed": true
   },
   "outputs": [
    {
     "data": {
      "application/vnd.jupyter.widget-view+json": {
       "model_id": "81e4637027714a2986023a5d0f683c5f",
       "version_major": 2,
       "version_minor": 0
      },
      "text/plain": [
       "interactive(children=(IntSlider(value=0, description='Subplot:', max=19), Output()), _dom_classes=('widget-int…"
      ]
     },
     "execution_count": 1,
     "metadata": {},
     "output_type": "execute_result"
    }
   ],
   "source": [
    "import numpy as np\n",
    "import matplotlib.pyplot as plt\n",
    "import ipywidgets as widgets\n",
    "from IPython.display import display\n",
    "\n",
    "# Define the folder path once\n",
    "folder_path = 'results/Reading/kdd_model/One_out/linear/pretrain/window_size_5sec/feat_dim_2/freeze_False_epoch_700_lr_0.0001_d_hidden_64_d_ff_256_n_heads_8_n_layer_3_pos_encode_learnable_activation_gelu_norm_BatchNorm'\n",
    "\n",
    "# Load the files using the folder path\n",
    "mask = np.loadtxt(f'{folder_path}/mask.txt')\n",
    "y_pred = np.loadtxt(f'{folder_path}/pred.txt')\n",
    "t_true = np.loadtxt(f'{folder_path}/true.txt')\n",
    "\n",
    "\n",
    "# Split into x and y coordinates\n",
    "mask_x = mask[::2]\n",
    "mask_y = mask[1::2]\n",
    "\n",
    "y_pred_x = y_pred[::2]\n",
    "y_pred_y = y_pred[1::2]\n",
    "\n",
    "t_true_x = t_true[::2]\n",
    "t_true_y = t_true[1::2]\n",
    "\n",
    "# Define the number of points per subplot and the number of subplots\n",
    "points_per_subplot = 150\n",
    "num_subplots = 20\n",
    "\n",
    "# Create a function to plot a specific subplot\n",
    "def plot_subplot(i):\n",
    "    start = i * points_per_subplot\n",
    "    end = start + points_per_subplot\n",
    "\n",
    "    # Create a figure with 2 subplots\n",
    "    fig, axs = plt.subplots(2, figsize=(10, 5))\n",
    "\n",
    "    # Plot x-coordinates\n",
    "    axs[0].plot(t_true_x[start:end], 'r-', label='True', alpha=0.5)\n",
    "    axs[0].plot(y_pred_x[start:end], 'b-', label='Predicted', alpha=0.5)\n",
    "    axs[0].set_title('X-coordinates ({}-{})'.format(start, end))\n",
    "    axs[0].legend()\n",
    "\n",
    "    # Plot y-coordinates\n",
    "    axs[1].plot(t_true_y[start:end], 'r-', label='True', alpha=0.5)\n",
    "    axs[1].plot(y_pred_y[start:end], 'b-', label='Predicted', alpha=0.5)\n",
    "    axs[1].set_title('Y-coordinates ({}-{})'.format(start, end))\n",
    "    axs[1].legend()\n",
    "\n",
    "    # Display the plots\n",
    "    plt.tight_layout()\n",
    "    plt.show()\n",
    "\n",
    "\n",
    "# Create a slider to select the subplot\n",
    "slider = widgets.IntSlider(min=0, max=num_subplots-1, step=1, description='Subplot:')\n",
    "\n",
    "# Create an interactive plot viewer\n",
    "widgets.interactive(plot_subplot, i=slider)\n"
   ]
  }
 ],
 "metadata": {
  "kernelspec": {
   "display_name": "Python 3",
   "language": "python",
   "name": "python3"
  },
  "language_info": {
   "codemirror_mode": {
    "name": "ipython",
    "version": 3
   },
   "file_extension": ".py",
   "mimetype": "text/x-python",
   "name": "python",
   "nbconvert_exporter": "python",
   "pygments_lexer": "ipython3",
   "version": "3.11.4"
  }
 },
 "nbformat": 4,
 "nbformat_minor": 5
}
