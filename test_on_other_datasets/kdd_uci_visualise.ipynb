{
 "cells": [
  {
   "cell_type": "code",
   "execution_count": 5,
   "metadata": {},
   "outputs": [
    {
     "data": {
      "application/vnd.jupyter.widget-view+json": {
       "model_id": "0b7d1354c5914939a51b0635dffbe139",
       "version_major": 2,
       "version_minor": 0
      },
      "text/plain": [
       "interactive(children=(IntSlider(value=0, description='Row:', max=500), Output()), _dom_classes=('widget-intera…"
      ]
     },
     "execution_count": 5,
     "metadata": {},
     "output_type": "execute_result"
    }
   ],
   "source": [
    "import pandas as pd\n",
    "\n",
    "# Load the data into a DataFrame\n",
    "filePath = \"data/UCI/train/body_acc_y_train.txt\"\n",
    "df = pd.read_csv(filePath, header=None, delim_whitespace=True)\n",
    "\n",
    "import matplotlib.pyplot as plt\n",
    "import ipywidgets as widgets\n",
    "\n",
    "# Calculate the overall minimum and maximum values\n",
    "overall_min_y = df.min().min()\n",
    "overall_max_y = df.max().max()\n",
    "\n",
    "# Define a function to plot a specific row of the data\n",
    "def plot_time_series(row_num):\n",
    "    plt.figure(figsize=(10, 6))\n",
    "    plt.plot(df.iloc[row_num].values)\n",
    "    plt.ylim(overall_min_y, overall_max_y)  # Setting static y-axis limits\n",
    "    plt.title(f'Time Series Row {row_num+1}')\n",
    "    plt.xlabel('Time Steps')\n",
    "    plt.ylabel('Acceleration')\n",
    "    plt.grid(True)\n",
    "    plt.show()\n",
    "\n",
    "# Create the interactive widget\n",
    "widgets.interactive(plot_time_series, row_num=widgets.IntSlider(min=0, max=500, step=1, description='Row:'))\n"
   ]
  }
 ],
 "metadata": {
  "kernelspec": {
   "display_name": "torch",
   "language": "python",
   "name": "python3"
  },
  "language_info": {
   "codemirror_mode": {
    "name": "ipython",
    "version": 3
   },
   "file_extension": ".py",
   "mimetype": "text/x-python",
   "name": "python",
   "nbconvert_exporter": "python",
   "pygments_lexer": "ipython3",
   "version": "3.11.4"
  }
 },
 "nbformat": 4,
 "nbformat_minor": 2
}
