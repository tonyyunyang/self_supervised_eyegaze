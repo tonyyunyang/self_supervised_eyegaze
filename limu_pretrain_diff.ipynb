{
 "cells": [
  {
   "cell_type": "code",
   "execution_count": 1,
   "id": "initial_id",
   "metadata": {
    "collapsed": true
   },
   "outputs": [
    {
     "data": {
      "application/vnd.jupyter.widget-view+json": {
       "model_id": "db0ed2ed4f504cea9c21e11735d6f9c2",
       "version_major": 2,
       "version_minor": 0
      },
      "text/plain": [
       "interactive(children=(IntSlider(value=0, description='Time Series:', max=51), Output()), _dom_classes=('widget…"
      ]
     },
     "execution_count": 1,
     "metadata": {},
     "output_type": "execute_result"
    }
   ],
   "source": [
    "import numpy as np\n",
    "\n",
    "# Define the folder path once\n",
    "folder_path = 'results/limu_model/One_out/pretrain/window_size_5sec/epoch_6600_lr_0.0001_d_hidden_72_d_ff_144_n_heads_4_n_layer_4_embNorm_False'\n",
    "\n",
    "# Load data\n",
    "mask_pos = np.loadtxt(f'{folder_path}/mask_pos.txt')\n",
    "\n",
    "# Specify the window size here\n",
    "window_size = 150\n",
    "\n",
    "# Number of time series\n",
    "num_time_series = len(mask_pos)\n",
    "\n",
    "# Create 2D arrays for x and y coordinates of ground truth and predicted values\n",
    "true_x = np.zeros((num_time_series, window_size))\n",
    "true_y = np.zeros((num_time_series, window_size))\n",
    "pred_x = np.zeros((num_time_series, window_size))\n",
    "pred_y = np.zeros((num_time_series, window_size))\n",
    "\n",
    "# Load origin_seq, true.txt, and pred.txt\n",
    "origin_seq = np.loadtxt(f'{folder_path}/origin_seq.txt')\n",
    "t_true = np.loadtxt(f'{folder_path}/true.txt')\n",
    "y_pred = np.loadtxt(f'{folder_path}/pred.txt')\n",
    "\n",
    "\n",
    "# Initialize counters for true and pred values\n",
    "true_counter = 0\n",
    "pred_counter = 0\n",
    "\n",
    "# Assign values to the arrays\n",
    "for i, masked_positions in enumerate(mask_pos):\n",
    "    start = i * 150\n",
    "    end = start + 150\n",
    "    \n",
    "    true_x[i] = origin_seq[start:end, 0]\n",
    "    true_y[i] = origin_seq[start:end, 1]\n",
    "    \n",
    "    for pos in masked_positions:\n",
    "        true_x[i, int(pos)] = t_true[true_counter, 0]\n",
    "        true_y[i, int(pos)] = t_true[true_counter, 1]\n",
    "        \n",
    "        pred_x[i, int(pos)] = y_pred[pred_counter, 0]\n",
    "        pred_y[i, int(pos)] = y_pred[pred_counter, 1]\n",
    "        \n",
    "        # Increment the counters\n",
    "        true_counter += 1\n",
    "        pred_counter += 1\n",
    "\n",
    "import matplotlib.pyplot as plt\n",
    "import ipywidgets as widgets\n",
    "from IPython.display import display\n",
    "\n",
    "def plot_time_series(i):\n",
    "    # Extract data for the selected time series\n",
    "    x = true_x[i]\n",
    "    y = true_y[i]\n",
    "    px = pred_x[i]\n",
    "    py = pred_y[i]\n",
    "    \n",
    "    # Create a figure with 2 subplots\n",
    "    fig, axs = plt.subplots(2, figsize=(10, 5))\n",
    "    \n",
    "    # Plot x-coordinates\n",
    "    axs[0].plot(x, 'r-', label='Ground Truth X-coordinates', alpha=0.5)\n",
    "    axs[0].scatter(mask_pos[i], x[mask_pos[i].astype(int)], c='r', s=100, alpha=0.5, label='Masked X-coordinates')\n",
    "    axs[0].scatter(mask_pos[i], px[mask_pos[i].astype(int)], c='b', s=50, label='Predicted X-coordinates')\n",
    "    axs[0].set_title('X-coordinates for Time Series {}'.format(i))\n",
    "    axs[0].legend()\n",
    "    \n",
    "    # Plot y-coordinates\n",
    "    axs[1].plot(y, 'r-', label='Ground Truth Y-coordinates', alpha=0.5)\n",
    "    axs[1].scatter(mask_pos[i], y[mask_pos[i].astype(int)], c='r', s=100, alpha=0.5, label='Masked Y-coordinates')\n",
    "    axs[1].scatter(mask_pos[i], py[mask_pos[i].astype(int)], c='b', s=50, label='Predicted Y-coordinates')\n",
    "    axs[1].set_title('Y-coordinates for Time Series {}'.format(i))\n",
    "    axs[1].legend()\n",
    "    \n",
    "    # Display the plots\n",
    "    plt.tight_layout()\n",
    "    plt.show()\n",
    "\n",
    "# Create a slider to select the time series\n",
    "slider = widgets.IntSlider(min=0, max=num_time_series-1, step=1, description='Time Series:')\n",
    "\n",
    "# Create an interactive plot viewer\n",
    "widgets.interactive(plot_time_series, i=slider)\n"
   ]
  }
 ],
 "metadata": {
  "kernelspec": {
   "display_name": "Python 3",
   "language": "python",
   "name": "python3"
  },
  "language_info": {
   "codemirror_mode": {
    "name": "ipython",
    "version": 3
   },
   "file_extension": ".py",
   "mimetype": "text/x-python",
   "name": "python",
   "nbconvert_exporter": "python",
   "pygments_lexer": "ipython3",
   "version": "3.11.4"
  }
 },
 "nbformat": 4,
 "nbformat_minor": 5
}
