{
 "cells": [
  {
   "cell_type": "code",
   "execution_count": 7,
   "id": "initial_id",
   "metadata": {
    "collapsed": true
   },
   "outputs": [
    {
     "data": {
      "application/vnd.jupyter.widget-view+json": {
       "model_id": "7daf957e22024595ab046ad0f982e96b",
       "version_major": 2,
       "version_minor": 0
      },
      "text/plain": [
       "interactive(children=(IntSlider(value=0, description='Subplot:', max=45), Output()), _dom_classes=('widget-int…"
      ]
     },
     "execution_count": 7,
     "metadata": {},
     "output_type": "execute_result"
    }
   ],
   "source": [
    "import numpy as np\n",
    "import matplotlib.pyplot as plt\n",
    "import ipywidgets as widgets\n",
    "from IPython.display import display\n",
    "\n",
    "# Load data\n",
    "mask_pos = np.loadtxt('results/limu_model/One_out/pretrain/epoch_2_lr_0.0001_d_hidden_72_d_ff_144_n_heads_4_n_layer_4_embNorm_False/mask_pos.txt')\n",
    "origin_seq = np.loadtxt('results/limu_model/One_out/pretrain/epoch_2_lr_0.0001_d_hidden_72_d_ff_144_n_heads_4_n_layer_4_embNorm_False/origin_seq.txt')\n",
    "y_pred = np.loadtxt('results/limu_model/One_out/pretrain/epoch_2_lr_0.0001_d_hidden_72_d_ff_144_n_heads_4_n_layer_4_embNorm_False/pred.txt')\n",
    "t_true = np.loadtxt('results/limu_model/One_out/pretrain/epoch_2_lr_0.0001_d_hidden_72_d_ff_144_n_heads_4_n_layer_4_embNorm_False/true.txt')\n",
    "\n",
    "# Split into x and y coordinates\n",
    "origin_seq_x = origin_seq[:, 0]\n",
    "origin_seq_y = origin_seq[:, 1]\n",
    "\n",
    "# Define the number of points per subplot\n",
    "points_per_subplot = 150\n",
    "num_subplots = len(origin_seq) // points_per_subplot\n",
    "\n",
    "# Create a function to plot a specific subplot\n",
    "def plot_subplot(i):\n",
    "    start = i * points_per_subplot\n",
    "    end = start + points_per_subplot\n",
    "\n",
    "    # Create a figure with 2 subplots\n",
    "    fig, axs = plt.subplots(2, figsize=(10, 5))\n",
    "\n",
    "    # Plot x-coordinates\n",
    "    axs[0].plot(np.arange(start, end), origin_seq_x[start:end], 'r-', label='X-coordinates')\n",
    "    axs[0].set_title('X-coordinates ({}-{})'.format(start, end))\n",
    "    axs[0].legend()\n",
    "\n",
    "    # Plot y-coordinates\n",
    "    axs[1].plot(np.arange(start, end), origin_seq_y[start:end], 'r-', label='Y-coordinates')\n",
    "    axs[1].set_title('Y-coordinates ({}-{})'.format(start, end))\n",
    "    axs[1].legend()\n",
    "\n",
    "    # Display the plots\n",
    "    plt.tight_layout()\n",
    "    plt.show()\n",
    "\n",
    "# Create a slider to select the subplot\n",
    "slider = widgets.IntSlider(min=0, max=num_subplots-1, step=1, description='Subplot:')\n",
    "\n",
    "# Create an interactive plot viewer\n",
    "widgets.interactive(plot_subplot, i=slider)"
   ]
  }
 ],
 "metadata": {
  "kernelspec": {
   "display_name": "Python 3",
   "language": "python",
   "name": "python3"
  },
  "language_info": {
   "codemirror_mode": {
    "name": "ipython",
    "version": 3
   },
   "file_extension": ".py",
   "mimetype": "text/x-python",
   "name": "python",
   "nbconvert_exporter": "python",
   "pygments_lexer": "ipython3",
   "version": "3.11.3"
  }
 },
 "nbformat": 4,
 "nbformat_minor": 5
}
